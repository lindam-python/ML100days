{
 "cells": [
  {
   "cell_type": "markdown",
   "metadata": {},
   "source": [
    "## 練習時間"
   ]
  },
  {
   "cell_type": "markdown",
   "metadata": {},
   "source": [
    "請觀看李宏毅教授以神奇寶貝進化 CP 值預測的範例，解說何謂機器學習與過擬合。並回答以下問題"
   ]
  },
  {
   "cell_type": "markdown",
   "metadata": {},
   "source": [
    "[youtube](https://www.youtube.com/watch?v=fegAeph9UaA)"
   ]
  },
  {
   "cell_type": "markdown",
   "metadata": {},
   "source": [
    "### 1. 模型的泛化能力 (generalization) 是指什麼？ \n",
    "### 2. 分類問題與回歸問題分別可用的目標函數有哪些？"
   ]
  },
  {
   "cell_type": "code",
   "execution_count": null,
   "metadata": {},
   "outputs": [],
   "source": [
    "Generalization：當訓練資料找到最佳的model後(training, ，希望測試loss function也差不多一樣小，但事實上可能因為過擬合overfitting，使得testing data 在apply訓練好的model後其loss function變大。\n",
    "分類問題的目標函數：Accuracy, Preciesion, Recall, F1, AUC of ROC\n",
    "回歸問題的目標函數：MAE, MSE, R-Square\n",
    "\n",
    "\n",
    "1. 加入lamda值到function中，使function更平滑化，讓noise不那麼明顯，不過要注意不要太平滑\n",
    "2. \n",
    "分類問題:AUC, F1-Score\n",
    "回歸問題:MAE, MSE, R-square"
   ]
  }
 ],
 "metadata": {
  "kernelspec": {
   "display_name": "Python 3",
   "language": "python",
   "name": "python3"
  },
  "language_info": {
   "codemirror_mode": {
    "name": "ipython",
    "version": 3
   },
   "file_extension": ".py",
   "mimetype": "text/x-python",
   "name": "python",
   "nbconvert_exporter": "python",
   "pygments_lexer": "ipython3",
   "version": "3.6.5"
  }
 },
 "nbformat": 4,
 "nbformat_minor": 4
}
