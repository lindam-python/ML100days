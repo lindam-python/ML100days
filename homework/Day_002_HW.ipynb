{
 "cells": [
  {
   "cell_type": "markdown",
   "metadata": {},
   "source": [
    "## [作業目標]\n",
    "了解機器學習適合應用的領域與範疇。"
   ]
  },
  {
   "cell_type": "markdown",
   "metadata": {},
   "source": [
    "## [作業重點]\n",
    "透過瞭解機器學習的運作方式，找出非常適用機器學習應用的領域及其原因"
   ]
  },
  {
   "cell_type": "markdown",
   "metadata": {},
   "source": [
    "## 作業\n",
    "請找出一個你認為機器學習可以發光發熱的領域並闡述原因? "
   ]
  },
  {
   "cell_type": "code",
   "execution_count": null,
   "metadata": {},
   "outputs": [],
   "source": [
    "AI領域的增強式學習Reinforcement Learning。2019年輸給AlphaGo的韓國棋王宣布退役。我們可以發現這種如同人類經驗的try error的學習方式，\n",
    "可以使機器經年累月累積像人類一樣的經驗財富，但機器不一樣的是他的記憶能力與不斷餵進去的演算法，使其逐漸變得強而人類很難超越。\n",
    "我任為可以用在人類工作上的任何領域，只要不斷的餵進資料，讓其不斷的學習，都機器可以變得從簡單思考變得強大，甚至會欺騙對手。\n",
    "使用領域：如同醫生一樣的專業：電腦一開始可以在人類旁邊不斷的學習，不斷的餵資料，直到電腦可以思考，依照經驗判斷去診斷什麼病，進一步"
   ]
  }
 ],
 "metadata": {
  "kernelspec": {
   "display_name": "Python 3",
   "language": "python",
   "name": "python3"
  },
  "language_info": {
   "codemirror_mode": {
    "name": "ipython",
    "version": 3
   },
   "file_extension": ".py",
   "mimetype": "text/x-python",
   "name": "python",
   "nbconvert_exporter": "python",
   "pygments_lexer": "ipython3",
   "version": "3.6.5"
  }
 },
 "nbformat": 4,
 "nbformat_minor": 2
}
